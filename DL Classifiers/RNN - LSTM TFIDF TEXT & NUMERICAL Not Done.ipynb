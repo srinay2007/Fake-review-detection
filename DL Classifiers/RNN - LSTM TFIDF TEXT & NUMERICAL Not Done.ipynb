{
 "cells": [
  {
   "cell_type": "code",
   "execution_count": 12,
   "id": "49e76376",
   "metadata": {},
   "outputs": [],
   "source": [
    "# LIBRARIES\n",
    "import pandas as pd\n",
    "import nltk\n",
    "from nltk.corpus import stopwords\n",
    "import sklearn\n",
    "from imblearn.over_sampling import SMOTE\n",
    "from sklearn.feature_extraction.text import TfidfVectorizer\n",
    "from sklearn.model_selection import train_test_split\n",
    "from sklearn.metrics import accuracy_score, precision_score, recall_score, f1_score, confusion_matrix, classification_report\n",
    "import matplotlib.pyplot as plt\n",
    "from sklearn.metrics import roc_curve, auc, accuracy_score, confusion_matrix, classification_report\n",
    "import tensorflow as tf\n",
    "from tensorflow.keras.losses import Loss\n",
    "import pickle\n",
    "import warnings\n",
    "warnings.simplefilter(\"ignore\")"
   ]
  },
  {
   "cell_type": "code",
   "execution_count": 2,
   "id": "cc03ddaf-00ad-4a2c-b543-6fad6e8f1dab",
   "metadata": {},
   "outputs": [],
   "source": [
    "# Import TensorFlow\n",
    "import tensorflow as tf\n",
    "from tensorflow.keras.models import Sequential\n",
    "from tensorflow.keras.layers import Embedding, Conv1D, GlobalMaxPooling1D, Dense, Dropout\n",
    "from tensorflow.keras.preprocessing.text import Tokenizer\n",
    "from tensorflow.keras.preprocessing.sequence import pad_sequences"
   ]
  },
  {
   "cell_type": "code",
   "execution_count": 3,
   "id": "4378daea-288f-4805-b2b6-f46bf097e77e",
   "metadata": {},
   "outputs": [],
   "source": [
    "# Additional libraries for text preprocessing and feature engineering\n",
    "import re\n",
    "from nltk.corpus import stopwords\n",
    "import numpy as np\n",
    "from sklearn.base import BaseEstimator, TransformerMixin\n",
    "from nltk.tokenize import word_tokenize\n",
    "import gensim.downloader as api"
   ]
  },
  {
   "cell_type": "code",
   "execution_count": 4,
   "id": "4f135314",
   "metadata": {},
   "outputs": [],
   "source": [
    "# READ THE FILE INTO A DATAFRAME\n",
    "df = pd.read_csv(\"../../Fake review detection dataset/Yelp Dataset Reduced.csv\")\n",
    "#df = df[:5000]"
   ]
  },
  {
   "cell_type": "code",
   "execution_count": 5,
   "id": "38b32beb-c1a8-4cfa-8efb-03f15e176980",
   "metadata": {},
   "outputs": [],
   "source": [
    "# REMOVE MAX\n",
    "pd.set_option('display.max_columns', None)\n",
    "pd.set_option('display.max_rows', None)"
   ]
  },
  {
   "cell_type": "code",
   "execution_count": 6,
   "id": "c70690e6-0bb0-4d8c-bfb4-4c1af99b445f",
   "metadata": {},
   "outputs": [
    {
     "data": {
      "text/html": [
       "<div>\n",
       "<style scoped>\n",
       "    .dataframe tbody tr th:only-of-type {\n",
       "        vertical-align: middle;\n",
       "    }\n",
       "\n",
       "    .dataframe tbody tr th {\n",
       "        vertical-align: top;\n",
       "    }\n",
       "\n",
       "    .dataframe thead th {\n",
       "        text-align: right;\n",
       "    }\n",
       "</style>\n",
       "<table border=\"1\" class=\"dataframe\">\n",
       "  <thead>\n",
       "    <tr style=\"text-align: right;\">\n",
       "      <th></th>\n",
       "      <th>ID</th>\n",
       "      <th>USER_ID</th>\n",
       "      <th>PRODUCT_ID</th>\n",
       "      <th>RATING</th>\n",
       "      <th>DATE</th>\n",
       "      <th>LABEL</th>\n",
       "      <th>REVIEW_TEXT</th>\n",
       "      <th>AVERAGE_RATING</th>\n",
       "      <th>RATING_DEVIATION</th>\n",
       "      <th>TOTAL_PRODUCT_REVIEWS</th>\n",
       "      <th>REVIEW_LENGTH</th>\n",
       "      <th>RATING_CATEGORY</th>\n",
       "      <th>SINGLE_RATING_CATEGORY</th>\n",
       "      <th>REVIEW_COUNT_DATE</th>\n",
       "      <th>SAME_DATE_MULTIPLE_REVIEWS</th>\n",
       "      <th>MAX_USER_REVIEWS_DAY</th>\n",
       "      <th>TIMESTAMP_DIFFERENCE</th>\n",
       "      <th>AVERAGE_USER_REVIEW_LENGTH</th>\n",
       "      <th>TOTAL_USER_REVIEWS</th>\n",
       "      <th>PERCENTAGE_POSITIVE_REVIEWS</th>\n",
       "      <th>RATIO_POSITIVE_NEGATIVE</th>\n",
       "    </tr>\n",
       "  </thead>\n",
       "  <tbody>\n",
       "    <tr>\n",
       "      <th>0</th>\n",
       "      <td>144828</td>\n",
       "      <td>66563</td>\n",
       "      <td>416</td>\n",
       "      <td>4</td>\n",
       "      <td>10-12-2014</td>\n",
       "      <td>-1</td>\n",
       "      <td>Great.....</td>\n",
       "      <td>3.767293</td>\n",
       "      <td>0.232707</td>\n",
       "      <td>2183</td>\n",
       "      <td>10</td>\n",
       "      <td>1</td>\n",
       "      <td>1</td>\n",
       "      <td>1</td>\n",
       "      <td>0</td>\n",
       "      <td>2</td>\n",
       "      <td>0 days</td>\n",
       "      <td>11.500000</td>\n",
       "      <td>2</td>\n",
       "      <td>100.0</td>\n",
       "      <td>6.157377</td>\n",
       "    </tr>\n",
       "    <tr>\n",
       "      <th>1</th>\n",
       "      <td>157607</td>\n",
       "      <td>74755</td>\n",
       "      <td>449</td>\n",
       "      <td>4</td>\n",
       "      <td>26-03-2013</td>\n",
       "      <td>1</td>\n",
       "      <td>My family and I had Bubby's brunch on a Saturd...</td>\n",
       "      <td>3.396552</td>\n",
       "      <td>0.603448</td>\n",
       "      <td>812</td>\n",
       "      <td>824</td>\n",
       "      <td>1</td>\n",
       "      <td>1</td>\n",
       "      <td>2</td>\n",
       "      <td>0</td>\n",
       "      <td>2</td>\n",
       "      <td>1723 days</td>\n",
       "      <td>724.666667</td>\n",
       "      <td>12</td>\n",
       "      <td>100.0</td>\n",
       "      <td>3.121827</td>\n",
       "    </tr>\n",
       "    <tr>\n",
       "      <th>2</th>\n",
       "      <td>70401</td>\n",
       "      <td>49165</td>\n",
       "      <td>237</td>\n",
       "      <td>3</td>\n",
       "      <td>11-10-2011</td>\n",
       "      <td>1</td>\n",
       "      <td>I really like this place, but they need to get...</td>\n",
       "      <td>3.799003</td>\n",
       "      <td>0.799003</td>\n",
       "      <td>602</td>\n",
       "      <td>314</td>\n",
       "      <td>1</td>\n",
       "      <td>1</td>\n",
       "      <td>2</td>\n",
       "      <td>0</td>\n",
       "      <td>1</td>\n",
       "      <td>0 days</td>\n",
       "      <td>314.000000</td>\n",
       "      <td>1</td>\n",
       "      <td>100.0</td>\n",
       "      <td>6.082353</td>\n",
       "    </tr>\n",
       "    <tr>\n",
       "      <th>3</th>\n",
       "      <td>124810</td>\n",
       "      <td>75653</td>\n",
       "      <td>363</td>\n",
       "      <td>5</td>\n",
       "      <td>14-01-2014</td>\n",
       "      <td>1</td>\n",
       "      <td>This is one of my favorite places in the US. A...</td>\n",
       "      <td>3.990361</td>\n",
       "      <td>1.009639</td>\n",
       "      <td>2075</td>\n",
       "      <td>280</td>\n",
       "      <td>1</td>\n",
       "      <td>1</td>\n",
       "      <td>1</td>\n",
       "      <td>0</td>\n",
       "      <td>1</td>\n",
       "      <td>0 days</td>\n",
       "      <td>280.000000</td>\n",
       "      <td>1</td>\n",
       "      <td>100.0</td>\n",
       "      <td>9.121951</td>\n",
       "    </tr>\n",
       "    <tr>\n",
       "      <th>4</th>\n",
       "      <td>42068</td>\n",
       "      <td>32402</td>\n",
       "      <td>100</td>\n",
       "      <td>4</td>\n",
       "      <td>02-12-2014</td>\n",
       "      <td>1</td>\n",
       "      <td>Make sure you go with a small group of friends...</td>\n",
       "      <td>3.951812</td>\n",
       "      <td>0.048188</td>\n",
       "      <td>2677</td>\n",
       "      <td>478</td>\n",
       "      <td>1</td>\n",
       "      <td>1</td>\n",
       "      <td>2</td>\n",
       "      <td>0</td>\n",
       "      <td>1</td>\n",
       "      <td>398 days</td>\n",
       "      <td>255.666667</td>\n",
       "      <td>3</td>\n",
       "      <td>100.0</td>\n",
       "      <td>8.734545</td>\n",
       "    </tr>\n",
       "  </tbody>\n",
       "</table>\n",
       "</div>"
      ],
      "text/plain": [
       "       ID  USER_ID  PRODUCT_ID  RATING        DATE  LABEL  \\\n",
       "0  144828    66563         416       4  10-12-2014     -1   \n",
       "1  157607    74755         449       4  26-03-2013      1   \n",
       "2   70401    49165         237       3  11-10-2011      1   \n",
       "3  124810    75653         363       5  14-01-2014      1   \n",
       "4   42068    32402         100       4  02-12-2014      1   \n",
       "\n",
       "                                         REVIEW_TEXT  AVERAGE_RATING  \\\n",
       "0                                         Great.....        3.767293   \n",
       "1  My family and I had Bubby's brunch on a Saturd...        3.396552   \n",
       "2  I really like this place, but they need to get...        3.799003   \n",
       "3  This is one of my favorite places in the US. A...        3.990361   \n",
       "4  Make sure you go with a small group of friends...        3.951812   \n",
       "\n",
       "   RATING_DEVIATION  TOTAL_PRODUCT_REVIEWS  REVIEW_LENGTH  RATING_CATEGORY  \\\n",
       "0          0.232707                   2183             10                1   \n",
       "1          0.603448                    812            824                1   \n",
       "2          0.799003                    602            314                1   \n",
       "3          1.009639                   2075            280                1   \n",
       "4          0.048188                   2677            478                1   \n",
       "\n",
       "   SINGLE_RATING_CATEGORY  REVIEW_COUNT_DATE  SAME_DATE_MULTIPLE_REVIEWS  \\\n",
       "0                       1                  1                           0   \n",
       "1                       1                  2                           0   \n",
       "2                       1                  2                           0   \n",
       "3                       1                  1                           0   \n",
       "4                       1                  2                           0   \n",
       "\n",
       "   MAX_USER_REVIEWS_DAY TIMESTAMP_DIFFERENCE  AVERAGE_USER_REVIEW_LENGTH  \\\n",
       "0                     2               0 days                   11.500000   \n",
       "1                     2            1723 days                  724.666667   \n",
       "2                     1               0 days                  314.000000   \n",
       "3                     1               0 days                  280.000000   \n",
       "4                     1             398 days                  255.666667   \n",
       "\n",
       "   TOTAL_USER_REVIEWS  PERCENTAGE_POSITIVE_REVIEWS  RATIO_POSITIVE_NEGATIVE  \n",
       "0                   2                        100.0                 6.157377  \n",
       "1                  12                        100.0                 3.121827  \n",
       "2                   1                        100.0                 6.082353  \n",
       "3                   1                        100.0                 9.121951  \n",
       "4                   3                        100.0                 8.734545  "
      ]
     },
     "execution_count": 6,
     "metadata": {},
     "output_type": "execute_result"
    }
   ],
   "source": [
    "df.head()"
   ]
  },
  {
   "cell_type": "code",
   "execution_count": 7,
   "id": "76431ec7-55b2-4727-b88a-b1373701b857",
   "metadata": {},
   "outputs": [],
   "source": [
    "# Define text preprocessing function\n",
    "def preprocess_text(text):\n",
    "    text = text.lower()  # Convert to lowercase\n",
    "    text = re.sub(r\"[^a-zA-Z0-9\\s]\", \"\", text)  # Remove punctuation and special characters\n",
    "    text = re.sub(r\"\\s+\", \" \", text)  # Remove extra whitespace\n",
    "    stop_words = set(stopwords.words(\"english\"))\n",
    "    text = \" \".join([word for word in text.split() if word not in stop_words])    \n",
    "    return text\n",
    "\n",
    "df[\"REVIEW_TEXT\"] = df[\"REVIEW_TEXT\"].apply(preprocess_text)\n",
    "text_data = df[\"REVIEW_TEXT\"]\n",
    "text_data_list = text_data.tolist()"
   ]
  },
  {
   "cell_type": "code",
   "execution_count": 8,
   "id": "d307b7f9",
   "metadata": {},
   "outputs": [],
   "source": [
    "text_features = df['REVIEW_TEXT']\n",
    "numerical_features = df.drop(['ID', 'USER_ID', 'PRODUCT_ID', 'DATE', 'REVIEW_TEXT', 'LABEL'], axis=1)\n",
    "labels = df['LABEL']"
   ]
  },
  {
   "cell_type": "code",
   "execution_count": 9,
   "id": "64a4a31f-0761-494b-9bcc-ec3cd585b776",
   "metadata": {},
   "outputs": [
    {
     "name": "stdout",
     "output_type": "stream",
     "text": [
      "Maximum length: 3651\n"
     ]
    }
   ],
   "source": [
    "# Find maximum length\n",
    "max_length = max(len(text) for text in text_features)\n",
    "\n",
    "print(\"Maximum length:\", max_length)"
   ]
  },
  {
   "cell_type": "code",
   "execution_count": 10,
   "id": "54877333-01ad-4067-a355-48b1568abc5c",
   "metadata": {},
   "outputs": [],
   "source": [
    "# Convert labels from 1 to 0 and -1 to 1\n",
    "labels_encoded = labels.replace({1: 0, -1: 1})"
   ]
  },
  {
   "cell_type": "code",
   "execution_count": 13,
   "id": "ecc07439-0e45-44b0-9a53-540fe2c95f9a",
   "metadata": {},
   "outputs": [],
   "source": [
    "# Use TF-IDF vectorizer to convert text into numerical features\n",
    "vectorizer = TfidfVectorizer()\n",
    "X = vectorizer.fit_transform(df[\"REVIEW_TEXT\"])\n",
    "y = labels_encoded "
   ]
  },
  {
   "cell_type": "code",
   "execution_count": 14,
   "id": "5b0bc253-70f3-490f-b42b-9e4257166ee8",
   "metadata": {},
   "outputs": [],
   "source": [
    "# ADD PADDING TO ENSURE CONSISTENT SEQUENCE LENGTH\n",
    "vocab_size = len(vectorizer.vocabulary_)\n",
    "max_len = 200\n",
    "\n",
    "#num_samples = X.getnnz(axis=1).sum()  # Assuming sequences are stored in rows\n",
    "\n",
    "def get_sparse_sequence_lengths(X):\n",
    "  lengths = []\n",
    "  for row in X:\n",
    "    # Iterate through elements and count non-zero values\n",
    "    length = row.getnnz()\n",
    "    lengths.append(length)\n",
    "  return lengths\n",
    "\n",
    "from scipy.sparse import csr_matrix  # Assuming your sparse matrix is in CSR format\n",
    "\n",
    "# Get sequence lengths (use either method from step 1)\n",
    "sequence_lengths = get_sparse_sequence_lengths(X)\n",
    "\n",
    "# Convert sparse matrix to CSR format (if needed)\n",
    "X_csr = csr_matrix(X)\n",
    "\n",
    "# Pad the sequences (replace 'post' with 'pre' for padding at the beginning)\n",
    "X = pad_sequences(X_csr.toarray(), padding='post', maxlen=max_len)\n",
    "\n",
    "#X = pad_sequences(X, padding='post', maxlen=max_len)"
   ]
  },
  {
   "cell_type": "code",
   "execution_count": 15,
   "id": "90087b28-295a-48e4-bd64-0155e681a20e",
   "metadata": {},
   "outputs": [],
   "source": [
    "#TRAIN-TEST SPLIT\n",
    "X_train, X_test, y_train, y_test = train_test_split(\n",
    "    X, labels_encoded,\n",
    "    test_size = 0.2,\n",
    "    random_state = 42\n",
    ")"
   ]
  },
  {
   "cell_type": "code",
   "execution_count": 12,
   "id": "2bc1747f-4039-4634-b237-fae61d64ba56",
   "metadata": {},
   "outputs": [],
   "source": [
    "# # TOKENIZE TEXT\n",
    "# tokenizer = Tokenizer(num_words=5000)\n",
    "# tokenizer.fit_on_texts(text_features)"
   ]
  },
  {
   "cell_type": "code",
   "execution_count": 13,
   "id": "256b2831-ee7d-423b-9024-0ac05945b16e",
   "metadata": {},
   "outputs": [],
   "source": [
    "# # CONVERT TEXT TO SEQUENCES\n",
    "# X = tokenizer.texts_to_sequences(text_features)"
   ]
  },
  {
   "cell_type": "code",
   "execution_count": 14,
   "id": "56f4e33e-01f2-4ece-8b6b-0f0d5a631a3b",
   "metadata": {},
   "outputs": [],
   "source": [
    "# # ADD PADDING TO ENSURE CONSISTENT SEQUENCE LENGTH\n",
    "# vocab_size = len(tokenizer.word_index) + 1\n",
    "# max_len = 200\n",
    "# X = pad_sequences(X, padding='post', maxlen=max_len)"
   ]
  },
  {
   "cell_type": "code",
   "execution_count": 16,
   "id": "6771bb36-26f2-4fa7-9ccb-46a67609cc3f",
   "metadata": {},
   "outputs": [
    {
     "data": {
      "text/plain": [
       "44623"
      ]
     },
     "execution_count": 16,
     "metadata": {},
     "output_type": "execute_result"
    }
   ],
   "source": [
    "vocab_size"
   ]
  },
  {
   "cell_type": "code",
   "execution_count": 17,
   "id": "e849f6f3-6e3e-4fb8-bf41-0d0c1d6dcb10",
   "metadata": {},
   "outputs": [],
   "source": [
    "# Balancing data with SMOTE Oversampling technique\n",
    "smote = SMOTE(random_state=42)\n",
    "x_resampled, y_resampled = smote.fit_resample(X_train, y_train)"
   ]
  },
  {
   "cell_type": "code",
   "execution_count": 18,
   "id": "cd7a452e-9fe4-419c-93a5-6d46d9d440bc",
   "metadata": {},
   "outputs": [
    {
     "name": "stdout",
     "output_type": "stream",
     "text": [
      "(28576, 200) (28576,)\n"
     ]
    }
   ],
   "source": [
    "print(x_resampled.shape, y_resampled.shape)"
   ]
  },
  {
   "cell_type": "code",
   "execution_count": 19,
   "id": "446ca2f3",
   "metadata": {},
   "outputs": [
    {
     "name": "stdout",
     "output_type": "stream",
     "text": [
      "Model: \"sequential\"\n",
      "_________________________________________________________________\n",
      " Layer (type)                Output Shape              Param #   \n",
      "=================================================================\n",
      " embedding (Embedding)       (None, 200, 100)          4462300   \n",
      "                                                                 \n",
      " lstm (LSTM)                 (None, 200, 128)          117248    \n",
      "                                                                 \n",
      " lstm_1 (LSTM)               (None, 64)                49408     \n",
      "                                                                 \n",
      " dense (Dense)               (None, 1)                 65        \n",
      "                                                                 \n",
      "=================================================================\n",
      "Total params: 4629021 (17.66 MB)\n",
      "Trainable params: 4629021 (17.66 MB)\n",
      "Non-trainable params: 0 (0.00 Byte)\n",
      "_________________________________________________________________\n"
     ]
    }
   ],
   "source": [
    "from keras.layers import LSTM, MaxPooling1D\n",
    "\n",
    "# model = Sequential()\n",
    "# model.add(Embedding(vocab_size, 100, input_length=max_len))\n",
    "# model.add(Conv1D(128, 5, activation='relu'))\n",
    "# model.add(GlobalMaxPooling1D())\n",
    "# model.add(Dense(64, activation='relu'))\n",
    "# model.add(Dropout(0.5))\n",
    "# model.add(Dense(1, activation='sigmoid'))\n",
    "\n",
    "# BUILDING THE RNN-LSTM MODEL\n",
    "model = Sequential()\n",
    "model.add(Embedding(input_dim=vocab_size, output_dim=100, input_length=max_len))\n",
    "model.add(LSTM(units=128, dropout=0.5, recurrent_dropout=0.5, return_sequences=True))  # Return sequences for stacking LSTM layers\n",
    "model.add(LSTM(units=64, dropout=0.5, recurrent_dropout=0.5))\n",
    "model.add(Dense(units=1, activation='sigmoid'))\n",
    "\n",
    "model.summary()"
   ]
  },
  {
   "cell_type": "code",
   "execution_count": 20,
   "id": "14ff6780-6c7b-4b67-bcf5-211b97a241da",
   "metadata": {},
   "outputs": [],
   "source": [
    "from tensorflow.keras.optimizers import Adam\n",
    "from tensorflow.keras.callbacks import EarlyStopping\n",
    "\n",
    "# Early stopping callback\n",
    "early_stopping = EarlyStopping(monitor='val_loss', patience=3, restore_best_weights=True)\n",
    "callbacks=[early_stopping]\n",
    "\n",
    "optimizer = Adam(clipvalue=1.0)  # Clip gradients to the range [-1.0, 1.0]"
   ]
  },
  {
   "cell_type": "code",
   "execution_count": 21,
   "id": "7549a97a",
   "metadata": {},
   "outputs": [],
   "source": [
    "# COMPILE THE MODEL\n",
    "model.compile(optimizer=optimizer, loss='binary_crossentropy', metrics=['accuracy'])\n"
   ]
  },
  {
   "cell_type": "code",
   "execution_count": 22,
   "id": "967f1807-d678-4aee-82be-862ffbf84200",
   "metadata": {},
   "outputs": [
    {
     "name": "stdout",
     "output_type": "stream",
     "text": [
      "447/447 [==============================] - 839s 2s/step - loss: 0.6935 - accuracy: 0.5019 - val_loss: 0.6927 - val_accuracy: 0.8987\n",
      "Time taken for Epoch 1 : 839.3665964603424 seconds\n",
      "447/447 [==============================] - 892s 2s/step - loss: 0.6934 - accuracy: 0.4967 - val_loss: 0.6839 - val_accuracy: 0.8987\n",
      "Time taken for Epoch 2 : 892.5330164432526 seconds\n",
      "447/447 [==============================] - 913s 2s/step - loss: 0.6933 - accuracy: 0.4955 - val_loss: 0.6871 - val_accuracy: 0.8987\n",
      "Time taken for Epoch 3 : 912.6732351779938 seconds\n",
      "447/447 [==============================] - 913s 2s/step - loss: 0.6933 - accuracy: 0.4944 - val_loss: 0.6819 - val_accuracy: 0.8987\n",
      "Time taken for Epoch 4 : 913.4172520637512 seconds\n",
      "447/447 [==============================] - 952s 2s/step - loss: 0.6932 - accuracy: 0.5031 - val_loss: 0.6967 - val_accuracy: 0.1013\n",
      "Time taken for Epoch 5 : 951.7580924034119 seconds\n",
      "447/447 [==============================] - 955s 2s/step - loss: 0.6933 - accuracy: 0.4989 - val_loss: 0.6876 - val_accuracy: 0.8987\n",
      "Time taken for Epoch 6 : 955.2042744159698 seconds\n",
      "447/447 [==============================] - 996s 2s/step - loss: 0.6933 - accuracy: 0.4987 - val_loss: 0.7036 - val_accuracy: 0.1013\n",
      "Time taken for Epoch 7 : 997.1300930976868 seconds\n",
      "231/447 [==============>...............] - ETA: 7:47 - loss: 0.6934 - accuracy: 0.4982"
     ]
    },
    {
     "ename": "KeyboardInterrupt",
     "evalue": "",
     "output_type": "error",
     "traceback": [
      "\u001b[1;31m---------------------------------------------------------------------------\u001b[0m",
      "\u001b[1;31mKeyboardInterrupt\u001b[0m                         Traceback (most recent call last)",
      "Cell \u001b[1;32mIn[22], line 12\u001b[0m\n\u001b[0;32m      9\u001b[0m epoch_start_time \u001b[38;5;241m=\u001b[39m time\u001b[38;5;241m.\u001b[39mtime()\n\u001b[0;32m     11\u001b[0m \u001b[38;5;66;03m# Fit the model for one epoch\u001b[39;00m\n\u001b[1;32m---> 12\u001b[0m \u001b[43mmodel\u001b[49m\u001b[38;5;241;43m.\u001b[39;49m\u001b[43mfit\u001b[49m\u001b[43m(\u001b[49m\u001b[43mx_resampled\u001b[49m\u001b[43m,\u001b[49m\u001b[43m \u001b[49m\u001b[43my_resampled\u001b[49m\u001b[43m,\u001b[49m\u001b[43m \u001b[49m\u001b[43mepochs\u001b[49m\u001b[38;5;241;43m=\u001b[39;49m\u001b[38;5;241;43m1\u001b[39;49m\u001b[43m,\u001b[49m\u001b[43m \u001b[49m\u001b[43mbatch_size\u001b[49m\u001b[38;5;241;43m=\u001b[39;49m\u001b[38;5;241;43m64\u001b[39;49m\u001b[43m,\u001b[49m\u001b[43m \u001b[49m\u001b[43mvalidation_data\u001b[49m\u001b[38;5;241;43m=\u001b[39;49m\u001b[43m(\u001b[49m\u001b[43mX_test\u001b[49m\u001b[43m,\u001b[49m\u001b[43m \u001b[49m\u001b[43my_test\u001b[49m\u001b[43m)\u001b[49m\u001b[43m,\u001b[49m\u001b[43m \u001b[49m\u001b[43mcallbacks\u001b[49m\u001b[38;5;241;43m=\u001b[39;49m\u001b[43m[\u001b[49m\u001b[43mearly_stopping\u001b[49m\u001b[43m]\u001b[49m\u001b[43m,\u001b[49m\u001b[43m \u001b[49m\u001b[43mverbose\u001b[49m\u001b[38;5;241;43m=\u001b[39;49m\u001b[38;5;241;43m1\u001b[39;49m\u001b[43m)\u001b[49m\n\u001b[0;32m     14\u001b[0m \u001b[38;5;66;03m# Record end time for the current epoch\u001b[39;00m\n\u001b[0;32m     15\u001b[0m epoch_end_time \u001b[38;5;241m=\u001b[39m time\u001b[38;5;241m.\u001b[39mtime()\n",
      "File \u001b[1;32m~\\miniconda3\\lib\\site-packages\\keras\\src\\utils\\traceback_utils.py:65\u001b[0m, in \u001b[0;36mfilter_traceback.<locals>.error_handler\u001b[1;34m(*args, **kwargs)\u001b[0m\n\u001b[0;32m     63\u001b[0m filtered_tb \u001b[38;5;241m=\u001b[39m \u001b[38;5;28;01mNone\u001b[39;00m\n\u001b[0;32m     64\u001b[0m \u001b[38;5;28;01mtry\u001b[39;00m:\n\u001b[1;32m---> 65\u001b[0m     \u001b[38;5;28;01mreturn\u001b[39;00m fn(\u001b[38;5;241m*\u001b[39margs, \u001b[38;5;241m*\u001b[39m\u001b[38;5;241m*\u001b[39mkwargs)\n\u001b[0;32m     66\u001b[0m \u001b[38;5;28;01mexcept\u001b[39;00m \u001b[38;5;167;01mException\u001b[39;00m \u001b[38;5;28;01mas\u001b[39;00m e:\n\u001b[0;32m     67\u001b[0m     filtered_tb \u001b[38;5;241m=\u001b[39m _process_traceback_frames(e\u001b[38;5;241m.\u001b[39m__traceback__)\n",
      "File \u001b[1;32m~\\miniconda3\\lib\\site-packages\\keras\\src\\engine\\training.py:1742\u001b[0m, in \u001b[0;36mModel.fit\u001b[1;34m(self, x, y, batch_size, epochs, verbose, callbacks, validation_split, validation_data, shuffle, class_weight, sample_weight, initial_epoch, steps_per_epoch, validation_steps, validation_batch_size, validation_freq, max_queue_size, workers, use_multiprocessing)\u001b[0m\n\u001b[0;32m   1734\u001b[0m \u001b[38;5;28;01mwith\u001b[39;00m tf\u001b[38;5;241m.\u001b[39mprofiler\u001b[38;5;241m.\u001b[39mexperimental\u001b[38;5;241m.\u001b[39mTrace(\n\u001b[0;32m   1735\u001b[0m     \u001b[38;5;124m\"\u001b[39m\u001b[38;5;124mtrain\u001b[39m\u001b[38;5;124m\"\u001b[39m,\n\u001b[0;32m   1736\u001b[0m     epoch_num\u001b[38;5;241m=\u001b[39mepoch,\n\u001b[1;32m   (...)\u001b[0m\n\u001b[0;32m   1739\u001b[0m     _r\u001b[38;5;241m=\u001b[39m\u001b[38;5;241m1\u001b[39m,\n\u001b[0;32m   1740\u001b[0m ):\n\u001b[0;32m   1741\u001b[0m     callbacks\u001b[38;5;241m.\u001b[39mon_train_batch_begin(step)\n\u001b[1;32m-> 1742\u001b[0m     tmp_logs \u001b[38;5;241m=\u001b[39m \u001b[38;5;28;43mself\u001b[39;49m\u001b[38;5;241;43m.\u001b[39;49m\u001b[43mtrain_function\u001b[49m\u001b[43m(\u001b[49m\u001b[43miterator\u001b[49m\u001b[43m)\u001b[49m\n\u001b[0;32m   1743\u001b[0m     \u001b[38;5;28;01mif\u001b[39;00m data_handler\u001b[38;5;241m.\u001b[39mshould_sync:\n\u001b[0;32m   1744\u001b[0m         context\u001b[38;5;241m.\u001b[39masync_wait()\n",
      "File \u001b[1;32m~\\miniconda3\\lib\\site-packages\\tensorflow\\python\\util\\traceback_utils.py:150\u001b[0m, in \u001b[0;36mfilter_traceback.<locals>.error_handler\u001b[1;34m(*args, **kwargs)\u001b[0m\n\u001b[0;32m    148\u001b[0m filtered_tb \u001b[38;5;241m=\u001b[39m \u001b[38;5;28;01mNone\u001b[39;00m\n\u001b[0;32m    149\u001b[0m \u001b[38;5;28;01mtry\u001b[39;00m:\n\u001b[1;32m--> 150\u001b[0m   \u001b[38;5;28;01mreturn\u001b[39;00m fn(\u001b[38;5;241m*\u001b[39margs, \u001b[38;5;241m*\u001b[39m\u001b[38;5;241m*\u001b[39mkwargs)\n\u001b[0;32m    151\u001b[0m \u001b[38;5;28;01mexcept\u001b[39;00m \u001b[38;5;167;01mException\u001b[39;00m \u001b[38;5;28;01mas\u001b[39;00m e:\n\u001b[0;32m    152\u001b[0m   filtered_tb \u001b[38;5;241m=\u001b[39m _process_traceback_frames(e\u001b[38;5;241m.\u001b[39m__traceback__)\n",
      "File \u001b[1;32m~\\miniconda3\\lib\\site-packages\\tensorflow\\python\\eager\\polymorphic_function\\polymorphic_function.py:825\u001b[0m, in \u001b[0;36mFunction.__call__\u001b[1;34m(self, *args, **kwds)\u001b[0m\n\u001b[0;32m    822\u001b[0m compiler \u001b[38;5;241m=\u001b[39m \u001b[38;5;124m\"\u001b[39m\u001b[38;5;124mxla\u001b[39m\u001b[38;5;124m\"\u001b[39m \u001b[38;5;28;01mif\u001b[39;00m \u001b[38;5;28mself\u001b[39m\u001b[38;5;241m.\u001b[39m_jit_compile \u001b[38;5;28;01melse\u001b[39;00m \u001b[38;5;124m\"\u001b[39m\u001b[38;5;124mnonXla\u001b[39m\u001b[38;5;124m\"\u001b[39m\n\u001b[0;32m    824\u001b[0m \u001b[38;5;28;01mwith\u001b[39;00m OptionalXlaContext(\u001b[38;5;28mself\u001b[39m\u001b[38;5;241m.\u001b[39m_jit_compile):\n\u001b[1;32m--> 825\u001b[0m   result \u001b[38;5;241m=\u001b[39m \u001b[38;5;28mself\u001b[39m\u001b[38;5;241m.\u001b[39m_call(\u001b[38;5;241m*\u001b[39margs, \u001b[38;5;241m*\u001b[39m\u001b[38;5;241m*\u001b[39mkwds)\n\u001b[0;32m    827\u001b[0m new_tracing_count \u001b[38;5;241m=\u001b[39m \u001b[38;5;28mself\u001b[39m\u001b[38;5;241m.\u001b[39mexperimental_get_tracing_count()\n\u001b[0;32m    828\u001b[0m without_tracing \u001b[38;5;241m=\u001b[39m (tracing_count \u001b[38;5;241m==\u001b[39m new_tracing_count)\n",
      "File \u001b[1;32m~\\miniconda3\\lib\\site-packages\\tensorflow\\python\\eager\\polymorphic_function\\polymorphic_function.py:857\u001b[0m, in \u001b[0;36mFunction._call\u001b[1;34m(self, *args, **kwds)\u001b[0m\n\u001b[0;32m    854\u001b[0m   \u001b[38;5;28mself\u001b[39m\u001b[38;5;241m.\u001b[39m_lock\u001b[38;5;241m.\u001b[39mrelease()\n\u001b[0;32m    855\u001b[0m   \u001b[38;5;66;03m# In this case we have created variables on the first call, so we run the\u001b[39;00m\n\u001b[0;32m    856\u001b[0m   \u001b[38;5;66;03m# defunned version which is guaranteed to never create variables.\u001b[39;00m\n\u001b[1;32m--> 857\u001b[0m   \u001b[38;5;28;01mreturn\u001b[39;00m \u001b[38;5;28mself\u001b[39m\u001b[38;5;241m.\u001b[39m_no_variable_creation_fn(\u001b[38;5;241m*\u001b[39margs, \u001b[38;5;241m*\u001b[39m\u001b[38;5;241m*\u001b[39mkwds)  \u001b[38;5;66;03m# pylint: disable=not-callable\u001b[39;00m\n\u001b[0;32m    858\u001b[0m \u001b[38;5;28;01melif\u001b[39;00m \u001b[38;5;28mself\u001b[39m\u001b[38;5;241m.\u001b[39m_variable_creation_fn \u001b[38;5;129;01mis\u001b[39;00m \u001b[38;5;129;01mnot\u001b[39;00m \u001b[38;5;28;01mNone\u001b[39;00m:\n\u001b[0;32m    859\u001b[0m   \u001b[38;5;66;03m# Release the lock early so that multiple threads can perform the call\u001b[39;00m\n\u001b[0;32m    860\u001b[0m   \u001b[38;5;66;03m# in parallel.\u001b[39;00m\n\u001b[0;32m    861\u001b[0m   \u001b[38;5;28mself\u001b[39m\u001b[38;5;241m.\u001b[39m_lock\u001b[38;5;241m.\u001b[39mrelease()\n",
      "File \u001b[1;32m~\\miniconda3\\lib\\site-packages\\tensorflow\\python\\eager\\polymorphic_function\\tracing_compiler.py:148\u001b[0m, in \u001b[0;36mTracingCompiler.__call__\u001b[1;34m(self, *args, **kwargs)\u001b[0m\n\u001b[0;32m    145\u001b[0m \u001b[38;5;28;01mwith\u001b[39;00m \u001b[38;5;28mself\u001b[39m\u001b[38;5;241m.\u001b[39m_lock:\n\u001b[0;32m    146\u001b[0m   (concrete_function,\n\u001b[0;32m    147\u001b[0m    filtered_flat_args) \u001b[38;5;241m=\u001b[39m \u001b[38;5;28mself\u001b[39m\u001b[38;5;241m.\u001b[39m_maybe_define_function(args, kwargs)\n\u001b[1;32m--> 148\u001b[0m \u001b[38;5;28;01mreturn\u001b[39;00m \u001b[43mconcrete_function\u001b[49m\u001b[38;5;241;43m.\u001b[39;49m\u001b[43m_call_flat\u001b[49m\u001b[43m(\u001b[49m\n\u001b[0;32m    149\u001b[0m \u001b[43m    \u001b[49m\u001b[43mfiltered_flat_args\u001b[49m\u001b[43m,\u001b[49m\u001b[43m \u001b[49m\u001b[43mcaptured_inputs\u001b[49m\u001b[38;5;241;43m=\u001b[39;49m\u001b[43mconcrete_function\u001b[49m\u001b[38;5;241;43m.\u001b[39;49m\u001b[43mcaptured_inputs\u001b[49m\u001b[43m)\u001b[49m\n",
      "File \u001b[1;32m~\\miniconda3\\lib\\site-packages\\tensorflow\\python\\eager\\polymorphic_function\\monomorphic_function.py:1349\u001b[0m, in \u001b[0;36mConcreteFunction._call_flat\u001b[1;34m(self, args, captured_inputs)\u001b[0m\n\u001b[0;32m   1345\u001b[0m possible_gradient_type \u001b[38;5;241m=\u001b[39m gradients_util\u001b[38;5;241m.\u001b[39mPossibleTapeGradientTypes(args)\n\u001b[0;32m   1346\u001b[0m \u001b[38;5;28;01mif\u001b[39;00m (possible_gradient_type \u001b[38;5;241m==\u001b[39m gradients_util\u001b[38;5;241m.\u001b[39mPOSSIBLE_GRADIENT_TYPES_NONE\n\u001b[0;32m   1347\u001b[0m     \u001b[38;5;129;01mand\u001b[39;00m executing_eagerly):\n\u001b[0;32m   1348\u001b[0m   \u001b[38;5;66;03m# No tape is watching; skip to running the function.\u001b[39;00m\n\u001b[1;32m-> 1349\u001b[0m   \u001b[38;5;28;01mreturn\u001b[39;00m \u001b[38;5;28mself\u001b[39m\u001b[38;5;241m.\u001b[39m_build_call_outputs(\u001b[38;5;28;43mself\u001b[39;49m\u001b[38;5;241;43m.\u001b[39;49m\u001b[43m_inference_function\u001b[49m\u001b[43m(\u001b[49m\u001b[38;5;241;43m*\u001b[39;49m\u001b[43margs\u001b[49m\u001b[43m)\u001b[49m)\n\u001b[0;32m   1350\u001b[0m forward_backward \u001b[38;5;241m=\u001b[39m \u001b[38;5;28mself\u001b[39m\u001b[38;5;241m.\u001b[39m_select_forward_and_backward_functions(\n\u001b[0;32m   1351\u001b[0m     args,\n\u001b[0;32m   1352\u001b[0m     possible_gradient_type,\n\u001b[0;32m   1353\u001b[0m     executing_eagerly)\n\u001b[0;32m   1354\u001b[0m forward_function, args_with_tangents \u001b[38;5;241m=\u001b[39m forward_backward\u001b[38;5;241m.\u001b[39mforward()\n",
      "File \u001b[1;32m~\\miniconda3\\lib\\site-packages\\tensorflow\\python\\eager\\polymorphic_function\\atomic_function.py:196\u001b[0m, in \u001b[0;36mAtomicFunction.__call__\u001b[1;34m(self, *args)\u001b[0m\n\u001b[0;32m    194\u001b[0m \u001b[38;5;28;01mwith\u001b[39;00m record\u001b[38;5;241m.\u001b[39mstop_recording():\n\u001b[0;32m    195\u001b[0m   \u001b[38;5;28;01mif\u001b[39;00m \u001b[38;5;28mself\u001b[39m\u001b[38;5;241m.\u001b[39m_bound_context\u001b[38;5;241m.\u001b[39mexecuting_eagerly():\n\u001b[1;32m--> 196\u001b[0m     outputs \u001b[38;5;241m=\u001b[39m \u001b[38;5;28;43mself\u001b[39;49m\u001b[38;5;241;43m.\u001b[39;49m\u001b[43m_bound_context\u001b[49m\u001b[38;5;241;43m.\u001b[39;49m\u001b[43mcall_function\u001b[49m\u001b[43m(\u001b[49m\n\u001b[0;32m    197\u001b[0m \u001b[43m        \u001b[49m\u001b[38;5;28;43mself\u001b[39;49m\u001b[38;5;241;43m.\u001b[39;49m\u001b[43mname\u001b[49m\u001b[43m,\u001b[49m\n\u001b[0;32m    198\u001b[0m \u001b[43m        \u001b[49m\u001b[38;5;28;43mlist\u001b[39;49m\u001b[43m(\u001b[49m\u001b[43margs\u001b[49m\u001b[43m)\u001b[49m\u001b[43m,\u001b[49m\n\u001b[0;32m    199\u001b[0m \u001b[43m        \u001b[49m\u001b[38;5;28;43mlen\u001b[39;49m\u001b[43m(\u001b[49m\u001b[38;5;28;43mself\u001b[39;49m\u001b[38;5;241;43m.\u001b[39;49m\u001b[43mfunction_type\u001b[49m\u001b[38;5;241;43m.\u001b[39;49m\u001b[43mflat_outputs\u001b[49m\u001b[43m)\u001b[49m\u001b[43m,\u001b[49m\n\u001b[0;32m    200\u001b[0m \u001b[43m    \u001b[49m\u001b[43m)\u001b[49m\n\u001b[0;32m    201\u001b[0m   \u001b[38;5;28;01melse\u001b[39;00m:\n\u001b[0;32m    202\u001b[0m     outputs \u001b[38;5;241m=\u001b[39m make_call_op_in_graph(\u001b[38;5;28mself\u001b[39m, \u001b[38;5;28mlist\u001b[39m(args))\n",
      "File \u001b[1;32m~\\miniconda3\\lib\\site-packages\\tensorflow\\python\\eager\\context.py:1457\u001b[0m, in \u001b[0;36mContext.call_function\u001b[1;34m(self, name, tensor_inputs, num_outputs)\u001b[0m\n\u001b[0;32m   1455\u001b[0m cancellation_context \u001b[38;5;241m=\u001b[39m cancellation\u001b[38;5;241m.\u001b[39mcontext()\n\u001b[0;32m   1456\u001b[0m \u001b[38;5;28;01mif\u001b[39;00m cancellation_context \u001b[38;5;129;01mis\u001b[39;00m \u001b[38;5;28;01mNone\u001b[39;00m:\n\u001b[1;32m-> 1457\u001b[0m   outputs \u001b[38;5;241m=\u001b[39m \u001b[43mexecute\u001b[49m\u001b[38;5;241;43m.\u001b[39;49m\u001b[43mexecute\u001b[49m\u001b[43m(\u001b[49m\n\u001b[0;32m   1458\u001b[0m \u001b[43m      \u001b[49m\u001b[43mname\u001b[49m\u001b[38;5;241;43m.\u001b[39;49m\u001b[43mdecode\u001b[49m\u001b[43m(\u001b[49m\u001b[38;5;124;43m\"\u001b[39;49m\u001b[38;5;124;43mutf-8\u001b[39;49m\u001b[38;5;124;43m\"\u001b[39;49m\u001b[43m)\u001b[49m\u001b[43m,\u001b[49m\n\u001b[0;32m   1459\u001b[0m \u001b[43m      \u001b[49m\u001b[43mnum_outputs\u001b[49m\u001b[38;5;241;43m=\u001b[39;49m\u001b[43mnum_outputs\u001b[49m\u001b[43m,\u001b[49m\n\u001b[0;32m   1460\u001b[0m \u001b[43m      \u001b[49m\u001b[43minputs\u001b[49m\u001b[38;5;241;43m=\u001b[39;49m\u001b[43mtensor_inputs\u001b[49m\u001b[43m,\u001b[49m\n\u001b[0;32m   1461\u001b[0m \u001b[43m      \u001b[49m\u001b[43mattrs\u001b[49m\u001b[38;5;241;43m=\u001b[39;49m\u001b[43mattrs\u001b[49m\u001b[43m,\u001b[49m\n\u001b[0;32m   1462\u001b[0m \u001b[43m      \u001b[49m\u001b[43mctx\u001b[49m\u001b[38;5;241;43m=\u001b[39;49m\u001b[38;5;28;43mself\u001b[39;49m\u001b[43m,\u001b[49m\n\u001b[0;32m   1463\u001b[0m \u001b[43m  \u001b[49m\u001b[43m)\u001b[49m\n\u001b[0;32m   1464\u001b[0m \u001b[38;5;28;01melse\u001b[39;00m:\n\u001b[0;32m   1465\u001b[0m   outputs \u001b[38;5;241m=\u001b[39m execute\u001b[38;5;241m.\u001b[39mexecute_with_cancellation(\n\u001b[0;32m   1466\u001b[0m       name\u001b[38;5;241m.\u001b[39mdecode(\u001b[38;5;124m\"\u001b[39m\u001b[38;5;124mutf-8\u001b[39m\u001b[38;5;124m\"\u001b[39m),\n\u001b[0;32m   1467\u001b[0m       num_outputs\u001b[38;5;241m=\u001b[39mnum_outputs,\n\u001b[1;32m   (...)\u001b[0m\n\u001b[0;32m   1471\u001b[0m       cancellation_manager\u001b[38;5;241m=\u001b[39mcancellation_context,\n\u001b[0;32m   1472\u001b[0m   )\n",
      "File \u001b[1;32m~\\miniconda3\\lib\\site-packages\\tensorflow\\python\\eager\\execute.py:53\u001b[0m, in \u001b[0;36mquick_execute\u001b[1;34m(op_name, num_outputs, inputs, attrs, ctx, name)\u001b[0m\n\u001b[0;32m     51\u001b[0m \u001b[38;5;28;01mtry\u001b[39;00m:\n\u001b[0;32m     52\u001b[0m   ctx\u001b[38;5;241m.\u001b[39mensure_initialized()\n\u001b[1;32m---> 53\u001b[0m   tensors \u001b[38;5;241m=\u001b[39m \u001b[43mpywrap_tfe\u001b[49m\u001b[38;5;241;43m.\u001b[39;49m\u001b[43mTFE_Py_Execute\u001b[49m\u001b[43m(\u001b[49m\u001b[43mctx\u001b[49m\u001b[38;5;241;43m.\u001b[39;49m\u001b[43m_handle\u001b[49m\u001b[43m,\u001b[49m\u001b[43m \u001b[49m\u001b[43mdevice_name\u001b[49m\u001b[43m,\u001b[49m\u001b[43m \u001b[49m\u001b[43mop_name\u001b[49m\u001b[43m,\u001b[49m\n\u001b[0;32m     54\u001b[0m \u001b[43m                                      \u001b[49m\u001b[43minputs\u001b[49m\u001b[43m,\u001b[49m\u001b[43m \u001b[49m\u001b[43mattrs\u001b[49m\u001b[43m,\u001b[49m\u001b[43m \u001b[49m\u001b[43mnum_outputs\u001b[49m\u001b[43m)\u001b[49m\n\u001b[0;32m     55\u001b[0m \u001b[38;5;28;01mexcept\u001b[39;00m core\u001b[38;5;241m.\u001b[39m_NotOkStatusException \u001b[38;5;28;01mas\u001b[39;00m e:\n\u001b[0;32m     56\u001b[0m   \u001b[38;5;28;01mif\u001b[39;00m name \u001b[38;5;129;01mis\u001b[39;00m \u001b[38;5;129;01mnot\u001b[39;00m \u001b[38;5;28;01mNone\u001b[39;00m:\n",
      "\u001b[1;31mKeyboardInterrupt\u001b[0m: "
     ]
    }
   ],
   "source": [
    "# TRAIN THE MODEL\n",
    "import time\n",
    "\n",
    "# Record start time\n",
    "start_time = time.time()\n",
    "\n",
    "for epoch in range(10):\n",
    "    # Record start time for the current epoch\n",
    "    epoch_start_time = time.time()\n",
    "    \n",
    "    # Fit the model for one epoch\n",
    "    model.fit(x_resampled, y_resampled, epochs=1, batch_size=64, validation_data=(X_test, y_test), callbacks=[early_stopping], verbose=1)\n",
    "    \n",
    "    # Record end time for the current epoch\n",
    "    epoch_end_time = time.time()\n",
    "    \n",
    "    # Calculate time taken for the current epoch\n",
    "    epoch_time_taken = epoch_end_time - epoch_start_time\n",
    "    \n",
    "    # Print time taken for the current epoch\n",
    "    print(\"Time taken for Epoch\", epoch + 1, \":\", epoch_time_taken, \"seconds\")\n",
    "# Record end time\n",
    "end_time = time.time()\n",
    "# Calculate time taken\n",
    "time_taken = end_time - start_time\n",
    "print(\"Time taken for model.fit 10 epochs\", time_taken, \"seconds\")"
   ]
  },
  {
   "cell_type": "code",
   "execution_count": 45,
   "id": "5a88bd51",
   "metadata": {},
   "outputs": [
    {
     "name": "stdout",
     "output_type": "stream",
     "text": [
      "224/224 [==============================] - 29s 129ms/step - loss: 0.3418 - accuracy: 0.8649\n"
     ]
    }
   ],
   "source": [
    "# EVALUATE THE MODEL\n",
    "loss, accuracy = model.evaluate(X_test, y_test, verbose=1)"
   ]
  },
  {
   "cell_type": "code",
   "execution_count": 46,
   "id": "cce8b28c-c38d-4e0d-b08d-02800c403d90",
   "metadata": {},
   "outputs": [
    {
     "name": "stdout",
     "output_type": "stream",
     "text": [
      "224/224 [==============================] - 27s 117ms/step\n"
     ]
    }
   ],
   "source": [
    "# PREDICT ON TEST DATA\n",
    "y_pred_prob = model.predict(X_test)\n",
    "y_pred = (y_pred_prob > 0.5).astype(int)"
   ]
  },
  {
   "cell_type": "code",
   "execution_count": 47,
   "id": "c950ba6e",
   "metadata": {},
   "outputs": [
    {
     "name": "stdout",
     "output_type": "stream",
     "text": [
      "Accuracy: 0.8648762064624423\n",
      "Confusion Matrix:\n",
      " [[3215  355]\n",
      " [ 611 2968]]\n",
      "Classification Report:\n",
      "               precision    recall  f1-score   support\n",
      "\n",
      "           0       0.84      0.90      0.87      3570\n",
      "           1       0.89      0.83      0.86      3579\n",
      "\n",
      "    accuracy                           0.86      7149\n",
      "   macro avg       0.87      0.86      0.86      7149\n",
      "weighted avg       0.87      0.86      0.86      7149\n",
      "\n"
     ]
    }
   ],
   "source": [
    "# PRINT EVALUATION METRICS\n",
    "print(\"Accuracy:\", accuracy_score(y_test, y_pred))\n",
    "print(\"Confusion Matrix:\\n\", confusion_matrix(y_test, y_pred))\n",
    "print(\"Classification Report:\\n\", classification_report(y_test, y_pred))"
   ]
  },
  {
   "cell_type": "code",
   "execution_count": 48,
   "id": "30820ad6-20c1-4288-b4c9-ba1735c63b26",
   "metadata": {},
   "outputs": [
    {
     "name": "stdout",
     "output_type": "stream",
     "text": [
      "224/224 [==============================] - 27s 120ms/step\n"
     ]
    }
   ],
   "source": [
    "# Evaluate model on test data\n",
    "y_pred_proba = model.predict(X_test)\n",
    "y_pred = np.round(y_pred_proba)"
   ]
  },
  {
   "cell_type": "code",
   "execution_count": 49,
   "id": "fb692fbb-1f5f-4658-b9e2-c1bcc1da1c62",
   "metadata": {},
   "outputs": [
    {
     "data": {
      "image/png": "[encoded data removed]",
      "text/plain": [
       "<Figure size 640x480 with 1 Axes>"
      ]
     },
     "metadata": {},
     "output_type": "display_data"
    }
   ],
   "source": [
    "# Compute ROC curve and ROC area\n",
    "fpr, tpr, thresholds = roc_curve(y_test, y_pred_proba)\n",
    "roc_auc = auc(fpr, tpr)\n",
    "\n",
    "# Plot ROC curve\n",
    "plt.figure()\n",
    "plt.plot(fpr, tpr, color='darkorange', lw=2, label='ROC curve (area = %0.2f)' % roc_auc)\n",
    "plt.plot([0, 1], [0, 1], color='navy', lw=2, linestyle='--')\n",
    "plt.xlim([0.0, 1.0])\n",
    "plt.ylim([0.0, 1.05])\n",
    "plt.xlabel('False Positive Rate')\n",
    "plt.ylabel('True Positive Rate')\n",
    "plt.title('Receiver Operating Characteristic (ROC)')\n",
    "plt.legend(loc=\"lower right\")\n",
    "plt.show()"
   ]
  }
 ],
 "metadata": {
  "kernelspec": {
   "display_name": "Python 3 (ipykernel)",
   "language": "python",
   "name": "python3"
  },
  "language_info": {
   "codemirror_mode": {
    "name": "ipython",
    "version": 3
   },
   "file_extension": ".py",
   "mimetype": "text/x-python",
   "name": "python",
   "nbconvert_exporter": "python",
   "pygments_lexer": "ipython3",
   "version": "3.10.13"
  }
 },
 "nbformat": 4,
 "nbformat_minor": 5
}
