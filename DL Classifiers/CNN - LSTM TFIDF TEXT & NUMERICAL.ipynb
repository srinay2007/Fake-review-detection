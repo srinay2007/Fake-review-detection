{
 "cells": [
  {
   "cell_type": "code",
   "execution_count": 13,
   "id": "49e76376",
   "metadata": {},
   "outputs": [],
   "source": [
    "# LIBRARIES\n",
    "import pandas as pd\n",
    "import nltk\n",
    "from nltk.corpus import stopwords\n",
    "import sklearn\n",
    "from imblearn.over_sampling import SMOTE\n",
    "from sklearn.feature_extraction.text import TfidfVectorizer\n",
    "from sklearn.model_selection import train_test_split\n",
    "from sklearn.metrics import accuracy_score, precision_score, recall_score, f1_score, confusion_matrix, classification_report\n",
    "import matplotlib.pyplot as plt\n",
    "from sklearn.metrics import roc_curve, auc, accuracy_score, confusion_matrix, classification_report\n",
    "import tensorflow as tf\n",
    "from tensorflow.keras.losses import Loss\n",
    "import pickle\n",
    "import warnings\n",
    "warnings.simplefilter(\"ignore\")"
   ]
  },
  {
   "cell_type": "code",
   "execution_count": 2,
   "id": "cc03ddaf-00ad-4a2c-b543-6fad6e8f1dab",
   "metadata": {},
   "outputs": [],
   "source": [
    "# Import TensorFlow\n",
    "import tensorflow as tf\n",
    "from tensorflow.keras.models import Sequential\n",
    "from tensorflow.keras.layers import Embedding, Conv1D, GlobalMaxPooling1D, Dense, Dropout\n",
    "from tensorflow.keras.preprocessing.text import Tokenizer\n",
    "from tensorflow.keras.preprocessing.sequence import pad_sequences"
   ]
  },
  {
   "cell_type": "code",
   "execution_count": 3,
   "id": "4378daea-288f-4805-b2b6-f46bf097e77e",
   "metadata": {},
   "outputs": [],
   "source": [
    "# Additional libraries for text preprocessing and feature engineering\n",
    "import re\n",
    "from nltk.corpus import stopwords\n",
    "import numpy as np\n",
    "from sklearn.base import BaseEstimator, TransformerMixin\n",
    "from nltk.tokenize import word_tokenize\n",
    "import gensim.downloader as api"
   ]
  },
  {
   "cell_type": "code",
   "execution_count": 5,
   "id": "4f135314",
   "metadata": {},
   "outputs": [],
   "source": [
    "# READ THE FILE INTO A DATAFRAME\n",
    "df = pd.read_csv(\"../../Fake review detection dataset/Yelp Dataset Reduced.csv\")\n",
    "#df = df[:5000]"
   ]
  },
  {
   "cell_type": "code",
   "execution_count": 6,
   "id": "38b32beb-c1a8-4cfa-8efb-03f15e176980",
   "metadata": {},
   "outputs": [],
   "source": [
    "# REMOVE MAX\n",
    "pd.set_option('display.max_columns', None)\n",
    "pd.set_option('display.max_rows', None)"
   ]
  },
  {
   "cell_type": "code",
   "execution_count": 7,
   "id": "c70690e6-0bb0-4d8c-bfb4-4c1af99b445f",
   "metadata": {},
   "outputs": [
    {
     "data": {
      "text/html": [
       "<div>\n",
       "<style scoped>\n",
       "    .dataframe tbody tr th:only-of-type {\n",
       "        vertical-align: middle;\n",
       "    }\n",
       "\n",
       "    .dataframe tbody tr th {\n",
       "        vertical-align: top;\n",
       "    }\n",
       "\n",
       "    .dataframe thead th {\n",
       "        text-align: right;\n",
       "    }\n",
       "</style>\n",
       "<table border=\"1\" class=\"dataframe\">\n",
       "  <thead>\n",
       "    <tr style=\"text-align: right;\">\n",
       "      <th></th>\n",
       "      <th>ID</th>\n",
       "      <th>USER_ID</th>\n",
       "      <th>PRODUCT_ID</th>\n",
       "      <th>RATING</th>\n",
       "      <th>DATE</th>\n",
       "      <th>LABEL</th>\n",
       "      <th>REVIEW_TEXT</th>\n",
       "      <th>AVERAGE_RATING</th>\n",
       "      <th>RATING_DEVIATION</th>\n",
       "      <th>TOTAL_PRODUCT_REVIEWS</th>\n",
       "      <th>REVIEW_LENGTH</th>\n",
       "      <th>RATING_CATEGORY</th>\n",
       "      <th>SINGLE_RATING_CATEGORY</th>\n",
       "      <th>REVIEW_COUNT_DATE</th>\n",
       "      <th>SAME_DATE_MULTIPLE_REVIEWS</th>\n",
       "      <th>MAX_USER_REVIEWS_DAY</th>\n",
       "      <th>TIMESTAMP_DIFFERENCE</th>\n",
       "      <th>AVERAGE_USER_REVIEW_LENGTH</th>\n",
       "      <th>TOTAL_USER_REVIEWS</th>\n",
       "      <th>PERCENTAGE_POSITIVE_REVIEWS</th>\n",
       "      <th>RATIO_POSITIVE_NEGATIVE</th>\n",
       "    </tr>\n",
       "  </thead>\n",
       "  <tbody>\n",
       "    <tr>\n",
       "      <th>0</th>\n",
       "      <td>144828</td>\n",
       "      <td>66563</td>\n",
       "      <td>416</td>\n",
       "      <td>4</td>\n",
       "      <td>10-12-2014</td>\n",
       "      <td>-1</td>\n",
       "      <td>Great.....</td>\n",
       "      <td>3.767293</td>\n",
       "      <td>0.232707</td>\n",
       "      <td>2183</td>\n",
       "      <td>10</td>\n",
       "      <td>1</td>\n",
       "      <td>1</td>\n",
       "      <td>1</td>\n",
       "      <td>0</td>\n",
       "      <td>2</td>\n",
       "      <td>0 days</td>\n",
       "      <td>11.500000</td>\n",
       "      <td>2</td>\n",
       "      <td>100.0</td>\n",
       "      <td>6.157377</td>\n",
       "    </tr>\n",
       "    <tr>\n",
       "      <th>1</th>\n",
       "      <td>157607</td>\n",
       "      <td>74755</td>\n",
       "      <td>449</td>\n",
       "      <td>4</td>\n",
       "      <td>26-03-2013</td>\n",
       "      <td>1</td>\n",
       "      <td>My family and I had Bubby's brunch on a Saturd...</td>\n",
       "      <td>3.396552</td>\n",
       "      <td>0.603448</td>\n",
       "      <td>812</td>\n",
       "      <td>824</td>\n",
       "      <td>1</td>\n",
       "      <td>1</td>\n",
       "      <td>2</td>\n",
       "      <td>0</td>\n",
       "      <td>2</td>\n",
       "      <td>1723 days</td>\n",
       "      <td>724.666667</td>\n",
       "      <td>12</td>\n",
       "      <td>100.0</td>\n",
       "      <td>3.121827</td>\n",
       "    </tr>\n",
       "    <tr>\n",
       "      <th>2</th>\n",
       "      <td>70401</td>\n",
       "      <td>49165</td>\n",
       "      <td>237</td>\n",
       "      <td>3</td>\n",
       "      <td>11-10-2011</td>\n",
       "      <td>1</td>\n",
       "      <td>I really like this place, but they need to get...</td>\n",
       "      <td>3.799003</td>\n",
       "      <td>0.799003</td>\n",
       "      <td>602</td>\n",
       "      <td>314</td>\n",
       "      <td>1</td>\n",
       "      <td>1</td>\n",
       "      <td>2</td>\n",
       "      <td>0</td>\n",
       "      <td>1</td>\n",
       "      <td>0 days</td>\n",
       "      <td>314.000000</td>\n",
       "      <td>1</td>\n",
       "      <td>100.0</td>\n",
       "      <td>6.082353</td>\n",
       "    </tr>\n",
       "    <tr>\n",
       "      <th>3</th>\n",
       "      <td>124810</td>\n",
       "      <td>75653</td>\n",
       "      <td>363</td>\n",
       "      <td>5</td>\n",
       "      <td>14-01-2014</td>\n",
       "      <td>1</td>\n",
       "      <td>This is one of my favorite places in the US. A...</td>\n",
       "      <td>3.990361</td>\n",
       "      <td>1.009639</td>\n",
       "      <td>2075</td>\n",
       "      <td>280</td>\n",
       "      <td>1</td>\n",
       "      <td>1</td>\n",
       "      <td>1</td>\n",
       "      <td>0</td>\n",
       "      <td>1</td>\n",
       "      <td>0 days</td>\n",
       "      <td>280.000000</td>\n",
       "      <td>1</td>\n",
       "      <td>100.0</td>\n",
       "      <td>9.121951</td>\n",
       "    </tr>\n",
       "    <tr>\n",
       "      <th>4</th>\n",
       "      <td>42068</td>\n",
       "      <td>32402</td>\n",
       "      <td>100</td>\n",
       "      <td>4</td>\n",
       "      <td>02-12-2014</td>\n",
       "      <td>1</td>\n",
       "      <td>Make sure you go with a small group of friends...</td>\n",
       "      <td>3.951812</td>\n",
       "      <td>0.048188</td>\n",
       "      <td>2677</td>\n",
       "      <td>478</td>\n",
       "      <td>1</td>\n",
       "      <td>1</td>\n",
       "      <td>2</td>\n",
       "      <td>0</td>\n",
       "      <td>1</td>\n",
       "      <td>398 days</td>\n",
       "      <td>255.666667</td>\n",
       "      <td>3</td>\n",
       "      <td>100.0</td>\n",
       "      <td>8.734545</td>\n",
       "    </tr>\n",
       "  </tbody>\n",
       "</table>\n",
       "</div>"
      ],
      "text/plain": [
       "       ID  USER_ID  PRODUCT_ID  RATING        DATE  LABEL  \\\n",
       "0  144828    66563         416       4  10-12-2014     -1   \n",
       "1  157607    74755         449       4  26-03-2013      1   \n",
       "2   70401    49165         237       3  11-10-2011      1   \n",
       "3  124810    75653         363       5  14-01-2014      1   \n",
       "4   42068    32402         100       4  02-12-2014      1   \n",
       "\n",
       "                                         REVIEW_TEXT  AVERAGE_RATING  \\\n",
       "0                                         Great.....        3.767293   \n",
       "1  My family and I had Bubby's brunch on a Saturd...        3.396552   \n",
       "2  I really like this place, but they need to get...        3.799003   \n",
       "3  This is one of my favorite places in the US. A...        3.990361   \n",
       "4  Make sure you go with a small group of friends...        3.951812   \n",
       "\n",
       "   RATING_DEVIATION  TOTAL_PRODUCT_REVIEWS  REVIEW_LENGTH  RATING_CATEGORY  \\\n",
       "0          0.232707                   2183             10                1   \n",
       "1          0.603448                    812            824                1   \n",
       "2          0.799003                    602            314                1   \n",
       "3          1.009639                   2075            280                1   \n",
       "4          0.048188                   2677            478                1   \n",
       "\n",
       "   SINGLE_RATING_CATEGORY  REVIEW_COUNT_DATE  SAME_DATE_MULTIPLE_REVIEWS  \\\n",
       "0                       1                  1                           0   \n",
       "1                       1                  2                           0   \n",
       "2                       1                  2                           0   \n",
       "3                       1                  1                           0   \n",
       "4                       1                  2                           0   \n",
       "\n",
       "   MAX_USER_REVIEWS_DAY TIMESTAMP_DIFFERENCE  AVERAGE_USER_REVIEW_LENGTH  \\\n",
       "0                     2               0 days                   11.500000   \n",
       "1                     2            1723 days                  724.666667   \n",
       "2                     1               0 days                  314.000000   \n",
       "3                     1               0 days                  280.000000   \n",
       "4                     1             398 days                  255.666667   \n",
       "\n",
       "   TOTAL_USER_REVIEWS  PERCENTAGE_POSITIVE_REVIEWS  RATIO_POSITIVE_NEGATIVE  \n",
       "0                   2                        100.0                 6.157377  \n",
       "1                  12                        100.0                 3.121827  \n",
       "2                   1                        100.0                 6.082353  \n",
       "3                   1                        100.0                 9.121951  \n",
       "4                   3                        100.0                 8.734545  "
      ]
     },
     "execution_count": 7,
     "metadata": {},
     "output_type": "execute_result"
    }
   ],
   "source": [
    "df.head()"
   ]
  },
  {
   "cell_type": "code",
   "execution_count": 8,
   "id": "76431ec7-55b2-4727-b88a-b1373701b857",
   "metadata": {},
   "outputs": [],
   "source": [
    "# Define text preprocessing function\n",
    "def preprocess_text(text):\n",
    "    text = text.lower()  # Convert to lowercase\n",
    "    text = re.sub(r\"[^a-zA-Z0-9\\s]\", \"\", text)  # Remove punctuation and special characters\n",
    "    text = re.sub(r\"\\s+\", \" \", text)  # Remove extra whitespace\n",
    "    stop_words = set(stopwords.words(\"english\"))\n",
    "    text = \" \".join([word for word in text.split() if word not in stop_words])    \n",
    "    return text\n",
    "\n",
    "df[\"REVIEW_TEXT\"] = df[\"REVIEW_TEXT\"].apply(preprocess_text)\n",
    "text_data = df[\"REVIEW_TEXT\"]\n",
    "text_data_list = text_data.tolist()"
   ]
  },
  {
   "cell_type": "code",
   "execution_count": 9,
   "id": "d307b7f9",
   "metadata": {},
   "outputs": [],
   "source": [
    "text_features = df['REVIEW_TEXT']\n",
    "numerical_features = df.drop(['ID', 'USER_ID', 'PRODUCT_ID', 'DATE', 'REVIEW_TEXT', 'LABEL'], axis=1)\n",
    "labels = df['LABEL']"
   ]
  },
  {
   "cell_type": "code",
   "execution_count": 10,
   "id": "64a4a31f-0761-494b-9bcc-ec3cd585b776",
   "metadata": {},
   "outputs": [
    {
     "name": "stdout",
     "output_type": "stream",
     "text": [
      "Maximum length: 3651\n"
     ]
    }
   ],
   "source": [
    "# Find maximum length\n",
    "max_length = max(len(text) for text in text_features)\n",
    "\n",
    "print(\"Maximum length:\", max_length)"
   ]
  },
  {
   "cell_type": "code",
   "execution_count": 11,
   "id": "54877333-01ad-4067-a355-48b1568abc5c",
   "metadata": {},
   "outputs": [],
   "source": [
    "# Convert labels from 1 to 0 and -1 to 1\n",
    "labels_encoded = labels.replace({1: 0, -1: 1})"
   ]
  },
  {
   "cell_type": "code",
   "execution_count": 14,
   "id": "2bc1747f-4039-4634-b237-fae61d64ba56",
   "metadata": {},
   "outputs": [],
   "source": [
    "# Use TF-IDF vectorizer to convert text into numerical features\n",
    "vectorizer = TfidfVectorizer()\n",
    "X = vectorizer.fit_transform(df[\"REVIEW_TEXT\"])\n",
    "y = labels "
   ]
  },
  {
   "cell_type": "code",
   "execution_count": 15,
   "id": "8125883f-55f5-4840-98fd-811e1403394d",
   "metadata": {},
   "outputs": [],
   "source": [
    "# ADD PADDING TO ENSURE CONSISTENT SEQUENCE LENGTH\n",
    "vocab_size = len(vectorizer.vocabulary_)\n",
    "max_len = 200\n",
    "\n",
    "#num_samples = X.getnnz(axis=1).sum()  # Assuming sequences are stored in rows\n",
    "\n",
    "def get_sparse_sequence_lengths(X):\n",
    "  lengths = []\n",
    "  for row in X:\n",
    "    # Iterate through elements and count non-zero values\n",
    "    length = row.getnnz()\n",
    "    lengths.append(length)\n",
    "  return lengths\n",
    "\n",
    "from scipy.sparse import csr_matrix  # Assuming your sparse matrix is in CSR format\n",
    "\n",
    "# Get sequence lengths (use either method from step 1)\n",
    "sequence_lengths = get_sparse_sequence_lengths(X)\n",
    "\n",
    "# Convert sparse matrix to CSR format (if needed)\n",
    "X_csr = csr_matrix(X)\n",
    "\n",
    "# Pad the sequences (replace 'post' with 'pre' for padding at the beginning)\n",
    "X = pad_sequences(X_csr.toarray(), padding='post', maxlen=max_len)\n",
    "\n",
    "#X = pad_sequences(X, padding='post', maxlen=max_len)"
   ]
  },
  {
   "cell_type": "code",
   "execution_count": 12,
   "id": "256b2831-ee7d-423b-9024-0ac05945b16e",
   "metadata": {},
   "outputs": [],
   "source": [
    "# # CONVERT TEXT TO SEQUENCES\n",
    "# X = tokenizer.texts_to_sequences(text_features)"
   ]
  },
  {
   "cell_type": "code",
   "execution_count": 16,
   "id": "6771bb36-26f2-4fa7-9ccb-46a67609cc3f",
   "metadata": {},
   "outputs": [
    {
     "data": {
      "text/plain": [
       "44623"
      ]
     },
     "execution_count": 16,
     "metadata": {},
     "output_type": "execute_result"
    }
   ],
   "source": [
    "vocab_size"
   ]
  },
  {
   "cell_type": "code",
   "execution_count": 17,
   "id": "5724a52e-3545-4dda-87be-3ece4e7bf229",
   "metadata": {},
   "outputs": [],
   "source": [
    "#TRAIN-TEST SPLIT\n",
    "X_train, X_test, y_train, y_test = train_test_split(\n",
    "    X, labels_encoded,\n",
    "    test_size = 0.2,\n",
    "    random_state = 42\n",
    ")"
   ]
  },
  {
   "cell_type": "code",
   "execution_count": 18,
   "id": "e849f6f3-6e3e-4fb8-bf41-0d0c1d6dcb10",
   "metadata": {},
   "outputs": [],
   "source": [
    "# Balancing data with SMOTE Oversampling technique\n",
    "smote = SMOTE(random_state=42)\n",
    "x_resampled, y_resampled = smote.fit_resample(X_train, y_train)"
   ]
  },
  {
   "cell_type": "code",
   "execution_count": 19,
   "id": "58c9911b",
   "metadata": {},
   "outputs": [
    {
     "name": "stdout",
     "output_type": "stream",
     "text": [
      "(28576, 200) (28576,)\n"
     ]
    }
   ],
   "source": [
    "print(x_resampled.shape, y_resampled.shape)"
   ]
  },
  {
   "cell_type": "code",
   "execution_count": 20,
   "id": "cd7a452e-9fe4-419c-93a5-6d46d9d440bc",
   "metadata": {},
   "outputs": [
    {
     "name": "stdout",
     "output_type": "stream",
     "text": [
      "(15952, 200)\n",
      "(3988, 200)\n"
     ]
    }
   ],
   "source": [
    "print(X_train.shape)\n",
    "print(X_test.shape)"
   ]
  },
  {
   "cell_type": "code",
   "execution_count": 21,
   "id": "446ca2f3",
   "metadata": {},
   "outputs": [
    {
     "name": "stdout",
     "output_type": "stream",
     "text": [
      "Model: \"sequential\"\n",
      "_________________________________________________________________\n",
      " Layer (type)                Output Shape              Param #   \n",
      "=================================================================\n",
      " embedding (Embedding)       (None, 200, 100)          4462300   \n",
      "                                                                 \n",
      " conv1d (Conv1D)             (None, 196, 128)          64128     \n",
      "                                                                 \n",
      " max_pooling1d (MaxPooling1  (None, 98, 128)           0         \n",
      " D)                                                              \n",
      "                                                                 \n",
      " lstm (LSTM)                 (None, 64)                49408     \n",
      "                                                                 \n",
      " dense (Dense)               (None, 1)                 65        \n",
      "                                                                 \n",
      "=================================================================\n",
      "Total params: 4575901 (17.46 MB)\n",
      "Trainable params: 4575901 (17.46 MB)\n",
      "Non-trainable params: 0 (0.00 Byte)\n",
      "_________________________________________________________________\n"
     ]
    }
   ],
   "source": [
    "from keras.layers import LSTM, MaxPooling1D\n",
    "\n",
    "# vocab_size = 20000\n",
    "embedding_dim = 64\n",
    "max_length = 200\n",
    "trunc_type = 'post'\n",
    "padding_type = 'post'\n",
    "oov_tok = '<OOV>'\n",
    "training_portion = .8\n",
    "\n",
    "# # BUILDING THE CNN-LSTM MODEL\n",
    "# model = tf.keras.Sequential([\n",
    "#     # Add an Embedding layer expecting input vocab of size 5000, and output embedding dimension of size 64 we set at the top\n",
    "#     tf.keras.layers.Embedding(vocab_size, embedding_dim),\n",
    "#     tf.keras.layers.Bidirectional(tf.keras.layers.LSTM(embedding_dim)),\n",
    "# #    tf.keras.layers.Bidirectional(tf.keras.layers.LSTM(32)),\n",
    "#     # use ReLU in place of tanh function since they are very good alternatives of each other.\n",
    "#     tf.keras.layers.Dense(embedding_dim, activation='relu'),\n",
    "#     # Add a Dense layer with 6 units and softmax activation.\n",
    "#     # When we have multiple outputs, softmax convert outputs layers into a probability distribution.\n",
    "#     tf.keras.layers.Dense(6, activation='sigmoid')\n",
    "# ])\n",
    "\n",
    "# model = Sequential()\n",
    "# model.add(Embedding(vocab_size, 100, input_length=max_len))\n",
    "# model.add(Conv1D(128, 5, activation='relu'))\n",
    "# model.add(GlobalMaxPooling1D())\n",
    "# model.add(Dense(64, activation='relu'))\n",
    "# model.add(Dropout(0.5))\n",
    "# model.add(Dense(1, activation='sigmoid'))\n",
    "\n",
    "# BUILDING THE CNN-LSTM MODEL\n",
    "model = Sequential()\n",
    "model.add(Embedding(input_dim=vocab_size, output_dim=100, input_length=max_len))\n",
    "model.add(Conv1D(filters=128, kernel_size=5, activation='relu'))\n",
    "model.add(MaxPooling1D(pool_size=2))\n",
    "model.add(LSTM(units=64, dropout=0.5, recurrent_dropout=0.5))\n",
    "model.add(Dense(units=1, activation='sigmoid'))\n",
    "\n",
    "model.summary()"
   ]
  },
  {
   "cell_type": "code",
   "execution_count": 22,
   "id": "7549a97a",
   "metadata": {},
   "outputs": [],
   "source": [
    "# COMPILE THE MODEL\n",
    "model.compile(optimizer='adam', loss='binary_crossentropy', metrics=['accuracy'])\n"
   ]
  },
  {
   "cell_type": "code",
   "execution_count": 29,
   "id": "967f1807-d678-4aee-82be-862ffbf84200",
   "metadata": {},
   "outputs": [
    {
     "name": "stdout",
     "output_type": "stream",
     "text": [
      "447/447 [==============================] - 98s 219ms/step - loss: 0.6990 - accuracy: 0.5024 - val_loss: 0.6806 - val_accuracy: 0.8987\n",
      "Time taken for Epoch 1 : 98.03472995758057 seconds\n",
      "447/447 [==============================] - 100s 223ms/step - loss: 0.6932 - accuracy: 0.5019 - val_loss: 0.6995 - val_accuracy: 0.1013\n",
      "Time taken for Epoch 2 : 99.72561645507812 seconds\n",
      "447/447 [==============================] - 99s 221ms/step - loss: 0.6933 - accuracy: 0.4950 - val_loss: 0.6916 - val_accuracy: 0.8987\n",
      "Time taken for Epoch 3 : 98.77326655387878 seconds\n",
      "447/447 [==============================] - 100s 224ms/step - loss: 0.6932 - accuracy: 0.5014 - val_loss: 0.6946 - val_accuracy: 0.1013\n",
      "Time taken for Epoch 4 : 99.99377799034119 seconds\n",
      "447/447 [==============================] - 99s 222ms/step - loss: 0.6932 - accuracy: 0.5027 - val_loss: 0.6957 - val_accuracy: 0.1013\n",
      "Time taken for Epoch 5 : 99.53886008262634 seconds\n",
      "447/447 [==============================] - 96s 216ms/step - loss: 0.6932 - accuracy: 0.5008 - val_loss: 0.6976 - val_accuracy: 0.1013\n",
      "Time taken for Epoch 6 : 96.57817053794861 seconds\n",
      "447/447 [==============================] - 101s 225ms/step - loss: 0.6933 - accuracy: 0.4934 - val_loss: 0.6921 - val_accuracy: 0.8987\n",
      "Time taken for Epoch 7 : 100.88316106796265 seconds\n",
      "447/447 [==============================] - 99s 221ms/step - loss: 0.6932 - accuracy: 0.4988 - val_loss: 0.6892 - val_accuracy: 0.8987\n",
      "Time taken for Epoch 8 : 98.9231059551239 seconds\n",
      "447/447 [==============================] - 234s 525ms/step - loss: 0.6932 - accuracy: 0.4959 - val_loss: 0.6945 - val_accuracy: 0.1013\n",
      "Time taken for Epoch 9 : 234.40909695625305 seconds\n",
      "447/447 [==============================] - 95s 214ms/step - loss: 0.6932 - accuracy: 0.5011 - val_loss: 0.6905 - val_accuracy: 0.8987\n",
      "Time taken for Epoch 10 : 95.55185317993164 seconds\n",
      "Time taken for model.fit 10 epochs 1122.4137332439423 seconds\n"
     ]
    }
   ],
   "source": [
    "# TRAIN THE MODEL\n",
    "import time\n",
    "\n",
    "# Record start time\n",
    "start_time = time.time()\n",
    "\n",
    "for epoch in range(10):\n",
    "    # Record start time for the current epoch\n",
    "    epoch_start_time = time.time()\n",
    "    \n",
    "    # Fit the model for one epoch\n",
    "    model.fit(x_resampled, y_resampled, epochs=1, batch_size=64, validation_data=(X_test, y_test), verbose=1)\n",
    "    \n",
    "    # Record end time for the current epoch\n",
    "    epoch_end_time = time.time()\n",
    "    \n",
    "    # Calculate time taken for the current epoch\n",
    "    epoch_time_taken = epoch_end_time - epoch_start_time\n",
    "    \n",
    "    # Print time taken for the current epoch\n",
    "    print(\"Time taken for Epoch\", epoch + 1, \":\", epoch_time_taken, \"seconds\")\n",
    "# Record end time\n",
    "end_time = time.time()\n",
    "# Calculate time taken\n",
    "time_taken = end_time - start_time\n",
    "print(\"Time taken for model.fit 10 epochs\", time_taken, \"seconds\")"
   ]
  },
  {
   "cell_type": "code",
   "execution_count": 30,
   "id": "5a88bd51",
   "metadata": {},
   "outputs": [
    {
     "name": "stdout",
     "output_type": "stream",
     "text": [
      "125/125 [==============================] - 4s 29ms/step - loss: 0.6905 - accuracy: 0.8987\n"
     ]
    }
   ],
   "source": [
    "# EVALUATE THE MODEL\n",
    "loss, accuracy = model.evaluate(X_test, y_test, verbose=1)"
   ]
  },
  {
   "cell_type": "code",
   "execution_count": 31,
   "id": "cce8b28c-c38d-4e0d-b08d-02800c403d90",
   "metadata": {},
   "outputs": [
    {
     "name": "stdout",
     "output_type": "stream",
     "text": [
      "125/125 [==============================] - 4s 31ms/step\n"
     ]
    }
   ],
   "source": [
    "# PREDICT ON TEST DATA\n",
    "y_pred_prob = model.predict(X_test)\n",
    "y_pred = (y_pred_prob > 0.5).astype(int)"
   ]
  },
  {
   "cell_type": "code",
   "execution_count": 32,
   "id": "c950ba6e",
   "metadata": {},
   "outputs": [
    {
     "name": "stdout",
     "output_type": "stream",
     "text": [
      "Accuracy: 0.8986960882647944\n",
      "Confusion Matrix:\n",
      " [[3584    0]\n",
      " [ 404    0]]\n",
      "Classification Report:\n",
      "               precision    recall  f1-score   support\n",
      "\n",
      "           0       0.90      1.00      0.95      3584\n",
      "           1       0.00      0.00      0.00       404\n",
      "\n",
      "    accuracy                           0.90      3988\n",
      "   macro avg       0.45      0.50      0.47      3988\n",
      "weighted avg       0.81      0.90      0.85      3988\n",
      "\n"
     ]
    }
   ],
   "source": [
    "# PRINT EVALUATION METRICS\n",
    "print(\"Accuracy:\", accuracy_score(y_test, y_pred))\n",
    "print(\"Confusion Matrix:\\n\", confusion_matrix(y_test, y_pred))\n",
    "print(\"Classification Report:\\n\", classification_report(y_test, y_pred))"
   ]
  },
  {
   "cell_type": "code",
   "execution_count": 33,
   "id": "30820ad6-20c1-4288-b4c9-ba1735c63b26",
   "metadata": {},
   "outputs": [
    {
     "name": "stdout",
     "output_type": "stream",
     "text": [
      "125/125 [==============================] - 4s 29ms/step\n"
     ]
    }
   ],
   "source": [
    "# Evaluate model on test data\n",
    "y_pred_proba = model.predict(X_test)\n",
    "y_pred = np.round(y_pred_proba)"
   ]
  },
  {
   "cell_type": "code",
   "execution_count": 34,
   "id": "fb692fbb-1f5f-4658-b9e2-c1bcc1da1c62",
   "metadata": {},
   "outputs": [
    {
     "data": {
      "image/png": "[encoded data removed]",
      "text/plain": [
       "<Figure size 640x480 with 1 Axes>"
      ]
     },
     "metadata": {},
     "output_type": "display_data"
    }
   ],
   "source": [
    "# Compute ROC curve and ROC area\n",
    "fpr, tpr, thresholds = roc_curve(y_test, y_pred_proba)\n",
    "roc_auc = auc(fpr, tpr)\n",
    "\n",
    "# Plot ROC curve\n",
    "plt.figure()\n",
    "plt.plot(fpr, tpr, color='darkorange', lw=2, label='ROC curve (area = %0.2f)' % roc_auc)\n",
    "plt.plot([0, 1], [0, 1], color='navy', lw=2, linestyle='--')\n",
    "plt.xlim([0.0, 1.0])\n",
    "plt.ylim([0.0, 1.05])\n",
    "plt.xlabel('False Positive Rate')\n",
    "plt.ylabel('True Positive Rate')\n",
    "plt.title('Receiver Operating Characteristic (ROC)')\n",
    "plt.legend(loc=\"lower right\")\n",
    "plt.show()"
   ]
  }
 ],
 "metadata": {
  "kernelspec": {
   "display_name": "Python 3 (ipykernel)",
   "language": "python",
   "name": "python3"
  },
  "language_info": {
   "codemirror_mode": {
    "name": "ipython",
    "version": 3
   },
   "file_extension": ".py",
   "mimetype": "text/x-python",
   "name": "python",
   "nbconvert_exporter": "python",
   "pygments_lexer": "ipython3",
   "version": "3.10.13"
  }
 },
 "nbformat": 4,
 "nbformat_minor": 5
}
